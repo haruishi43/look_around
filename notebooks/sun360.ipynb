{
 "cells": [
  {
   "cell_type": "code",
   "execution_count": 1,
   "id": "5d84d166-8eed-4046-93a0-54e820c38308",
   "metadata": {},
   "outputs": [],
   "source": [
    "import os"
   ]
  },
  {
   "cell_type": "code",
   "execution_count": 2,
   "id": "6c821958-fac1-450a-b0f1-1de80afdfd85",
   "metadata": {},
   "outputs": [
    {
     "name": "stdout",
     "output_type": "stream",
     "text": [
      "sun360 path found... True\n"
     ]
    }
   ],
   "source": [
    "DATA_ROOT = \"../data\"\n",
    "SUN360_ROOT = \"sun360\"\n",
    "\n",
    "SUN360_PATH = os.path.join(DATA_ROOT, SUN360_ROOT)\n",
    "print(\"sun360 path found...\", os.path.exists(SUN360_PATH))"
   ]
  },
  {
   "cell_type": "code",
   "execution_count": 6,
   "id": "079886a9-c8bb-4c45-9d6d-f3e6b6c8a375",
   "metadata": {},
   "outputs": [
    {
     "name": "stdout",
     "output_type": "stream",
     "text": [
      "path for 'indoor' is found... True\n",
      "path for 'outdoor' is found... True\n",
      "path for 'other' is found... True\n"
     ]
    }
   ],
   "source": [
    "category_paths = {\n",
    "    \"indoor\": os.path.join(SUN360_PATH, \"indoor\"),\n",
    "    \"outdoor\": os.path.join(SUN360_PATH, \"outdoor\"),\n",
    "    \"other\": os.path.join(SUN360_PATH, \"others\"),\n",
    "}\n",
    "\n",
    "for k, v in category_paths.items():\n",
    "    print(f\"path for '{k}' is found...\", os.path.exists(v))"
   ]
  },
  {
   "cell_type": "markdown",
   "id": "585ffc2a-4f5d-4e58-bcd7-47e59c93e07f",
   "metadata": {},
   "source": [
    "Try parsing through dirs for `indoor`"
   ]
  },
  {
   "cell_type": "code",
   "execution_count": 21,
   "id": "92eb9a1c-e933-499e-ae1f-d407925c7acc",
   "metadata": {},
   "outputs": [],
   "source": [
    "# parameters\n",
    "CATEGORY = \"indoor\"  # choice between \"indoor\" and \"outdoor\""
   ]
  },
  {
   "cell_type": "code",
   "execution_count": 22,
   "id": "b50aedbd-c8d2-416b-b6fd-60e58d91f4dc",
   "metadata": {},
   "outputs": [
    {
     "name": "stdout",
     "output_type": "stream",
     "text": [
      "{'greenhouse': '../data/sun360/indoor/greenhouse', 'living_room': '../data/sun360/indoor/living_room', 'tomb': '../data/sun360/indoor/tomb', 'office': '../data/sun360/indoor/office', 'cave': '../data/sun360/indoor/cave', 'mechanical_room': '../data/sun360/indoor/mechanical_room', 'bathroom': '../data/sun360/indoor/bathroom', 'sauna': '../data/sun360/indoor/sauna', 'shop': '../data/sun360/indoor/shop', 'stadium': '../data/sun360/indoor/stadium', 'indoor_pool': '../data/sun360/indoor/indoor_pool', 'legislative_chamber': '../data/sun360/indoor/legislative_chamber', 'staircase': '../data/sun360/indoor/staircase', 'hangar': '../data/sun360/indoor/hangar', 'belfry': '../data/sun360/indoor/belfry', 'studio': '../data/sun360/indoor/studio', 'church': '../data/sun360/indoor/church', 'aquarium': '../data/sun360/indoor/aquarium', 'childs_room_daycare': '../data/sun360/indoor/childs_room_daycare', 'classroom': '../data/sun360/indoor/classroom', 'stable': '../data/sun360/indoor/stable', 'bedroom': '../data/sun360/indoor/bedroom', 'subway_station': '../data/sun360/indoor/subway_station', 'museum': '../data/sun360/indoor/museum', 'corridor': '../data/sun360/indoor/corridor', 'laboratory': '../data/sun360/indoor/laboratory', 'workshop': '../data/sun360/indoor/workshop', 'airplane_interior': '../data/sun360/indoor/airplane_interior', 'kitchen': '../data/sun360/indoor/kitchen', 'car_interior': '../data/sun360/indoor/car_interior', 'massage_room': '../data/sun360/indoor/massage_room', 'library': '../data/sun360/indoor/library', 'restaurant': '../data/sun360/indoor/restaurant', 'lobby_atrium': '../data/sun360/indoor/lobby_atrium', 'conference_room': '../data/sun360/indoor/conference_room', 'jail_cell': '../data/sun360/indoor/jail_cell', 'pilothouse': '../data/sun360/indoor/pilothouse', 'theater': '../data/sun360/indoor/theater', 'tent': '../data/sun360/indoor/tent', 'others': '../data/sun360/indoor/others', 'observatory': '../data/sun360/indoor/observatory', 'old_building': '../data/sun360/indoor/old_building', 'elevator': '../data/sun360/indoor/elevator', 'expo_showroom': '../data/sun360/indoor/expo_showroom', 'gym': '../data/sun360/indoor/gym', 'parking_garage': '../data/sun360/indoor/parking_garage', 'closet': '../data/sun360/indoor/closet', 'dining_room': '../data/sun360/indoor/dining_room', 'hospital_room': '../data/sun360/indoor/hospital_room', 'train_interior': '../data/sun360/indoor/train_interior'}\n"
     ]
    }
   ],
   "source": [
    "cat_path = category_paths[CATEGORY]\n",
    "# make sure that we only get directories\n",
    "subcats = [c for c in os.listdir(cat_path) if os.path.isdir(os.path.join(cat_path, c))]\n",
    "# make a dictionary of paths for sub categories\n",
    "subcat_paths = {n: os.path.join(cat_path, n) for n in subcats}\n",
    "print(subcat_paths)"
   ]
  },
  {
   "cell_type": "code",
   "execution_count": 30,
   "id": "ed93a6c3-c7d8-4489-b9ae-b6bbc1957e23",
   "metadata": {},
   "outputs": [],
   "source": [
    "# try for single sub category\n",
    "subcat_path = subcat_paths[\"office\"]\n",
    "# list images (only get `.jpg` files)\n",
    "img_names = [i for i in os.listdir(subcat_path) if os.path.splitext(i)[-1] == \".jpg\"]\n",
    "# print(len(img_names))\n",
    "# get list of image paths relative to SUN360 root\n",
    "img_paths = [os.path.relpath(os.path.join(subcat_path, i), SUN360_PATH) for i in img_names]\n",
    "# print(img_paths)"
   ]
  },
  {
   "cell_type": "code",
   "execution_count": null,
   "id": "d79bad1b-a437-47da-bfc5-c3b79a33bfd1",
   "metadata": {},
   "outputs": [],
   "source": []
  }
 ],
 "metadata": {
  "kernelspec": {
   "display_name": "Python 3",
   "language": "python",
   "name": "python3"
  },
  "language_info": {
   "codemirror_mode": {
    "name": "ipython",
    "version": 3
   },
   "file_extension": ".py",
   "mimetype": "text/x-python",
   "name": "python",
   "nbconvert_exporter": "python",
   "pygments_lexer": "ipython3",
   "version": "3.8.8"
  }
 },
 "nbformat": 4,
 "nbformat_minor": 5
}
