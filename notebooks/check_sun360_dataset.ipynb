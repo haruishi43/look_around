{
 "cells": [
  {
   "cell_type": "code",
   "execution_count": 1,
   "id": "621ce401-c602-4f95-b17b-65db22e1e243",
   "metadata": {},
   "outputs": [],
   "source": [
    "import argparse\n",
    "from functools import partial\n",
    "import json\n",
    "import os\n",
    "from os import PathLike\n",
    "import pickle"
   ]
  },
  {
   "cell_type": "code",
   "execution_count": 4,
   "id": "aa1a47fe-f657-4d24-a9be-75e6d920ab35",
   "metadata": {},
   "outputs": [],
   "source": [
    "import sys\n",
    "sys.path.append('../')"
   ]
  },
  {
   "cell_type": "code",
   "execution_count": 5,
   "id": "a5805aef-fc7b-4f51-bc6a-e1ad0cfbcb13",
   "metadata": {},
   "outputs": [
    {
     "name": "stderr",
     "output_type": "stream",
     "text": [
      "/home/ubuntu/.pyenv/versions/3.8.9/lib/python3.8/site-packages/setuptools/distutils_patch.py:25: UserWarning: Distutils was imported before Setuptools. This usage is discouraged and may exhibit undesirable behaviors or errors. Please use Setuptools' objects directly or at least import Setuptools first.\n",
      "  warnings.warn(\n"
     ]
    }
   ],
   "source": [
    "from LookAround.config import Config"
   ]
  },
  {
   "cell_type": "code",
   "execution_count": 6,
   "id": "1033c470-1455-4d63-aa42-1ebbc2f12186",
   "metadata": {},
   "outputs": [],
   "source": [
    "cfg_path = \"../configs/_base_/datasets/sun360_alpha_indoor.py\""
   ]
  },
  {
   "cell_type": "code",
   "execution_count": 7,
   "id": "96e48016-a67c-4e71-bf34-5575dd8c8f62",
   "metadata": {},
   "outputs": [],
   "source": [
    "cfg = Config.fromfile(cfg_path)"
   ]
  },
  {
   "cell_type": "code",
   "execution_count": 9,
   "id": "a1492bc8-3e80-46e7-9a42-736af9a61755",
   "metadata": {},
   "outputs": [
    {
     "name": "stdout",
     "output_type": "stream",
     "text": [
      "seed = 0\n",
      "data_root = 'data'\n",
      "dataset_root = 'dataset'\n",
      "dataset_name = 'sun360'\n",
      "split_ratios = [0.8, 0.1, 0.1]\n",
      "num_easy = 30\n",
      "num_medium = 40\n",
      "num_hard = 30\n",
      "fov = 90.0\n",
      "pitch_threshold = 60\n",
      "min_steps = 10\n",
      "max_steps = 5000\n",
      "max_seconds = 10000000\n",
      "step_size = 1\n",
      "dataset_json_path = '{root}/{name}/{version}/{category}/{split}.json'\n",
      "episode_generator_kwargs = dict(shuffle=True, num_repeat_pseudo=-1)\n",
      "episode_iterator_kwargs = dict(\n",
      "    cycle=False, shuffle=False, num_episode_sample=-1)\n",
      "version = 'alpha'\n",
      "category = 'indoor'\n",
      "\n"
     ]
    }
   ],
   "source": [
    "print(cfg.pretty_text)"
   ]
  },
  {
   "cell_type": "code",
   "execution_count": 14,
   "id": "9a91b0cd-b758-4608-a569-855723ff7c27",
   "metadata": {},
   "outputs": [],
   "source": [
    "sun360_root = os.path.join(\"..\", cfg.data_root, cfg.dataset_name)\n",
    "dataset_root = os.path.join(\"..\", cfg.dataset_root, cfg.dataset_name, cfg.version, cfg.category)"
   ]
  },
  {
   "cell_type": "code",
   "execution_count": 15,
   "id": "23d43a52-e4a5-406c-985e-3321593ab0a9",
   "metadata": {},
   "outputs": [],
   "source": [
    "split_paths = {\n",
    "    \"train\": os.path.join(dataset_root, \"train.data\"),\n",
    "    \"val\": os.path.join(dataset_root, \"val.data\"),\n",
    "    \"test\": os.path.join(dataset_root, \"test.data\"),\n",
    "}"
   ]
  },
  {
   "cell_type": "code",
   "execution_count": 16,
   "id": "5ae06330-5fe9-411a-885f-a867efa38060",
   "metadata": {},
   "outputs": [],
   "source": [
    "splits = {}\n",
    "for name, path in split_paths.items():\n",
    "    with open(path, 'rb') as f:\n",
    "        splits[name] = pickle.load(f)"
   ]
  },
  {
   "cell_type": "code",
   "execution_count": 27,
   "id": "b6fd2dd6-4778-4ac3-9892-a357ac307206",
   "metadata": {},
   "outputs": [],
   "source": [
    "veri_data = {}\n",
    "\n",
    "for split, imgs in splits.items():\n",
    "    img_names = []\n",
    "    sub_labels = []\n",
    "    for img in imgs:\n",
    "        img_name = os.path.basename(img)\n",
    "        sub_label = img.split('/')[1]\n",
    "        img_without_ext = os.path.splitext(img_name)[0]\n",
    "        img_names.append(img_without_ext)\n",
    "        sub_labels.append(sub_label)\n",
    "\n",
    "    img_names = list(set(img_names))\n",
    "    sub_labels = list(set(sub_labels))\n",
    "    veri_data[split] = {\n",
    "        'img_names': img_names,\n",
    "        'sub_labels': sub_labels,\n",
    "    }"
   ]
  },
  {
   "cell_type": "code",
   "execution_count": 33,
   "id": "7747b4e1-7847-400e-9994-4df752c20aaa",
   "metadata": {},
   "outputs": [
    {
     "name": "stdout",
     "output_type": "stream",
     "text": [
      "set()\n",
      "set()\n",
      "set()\n"
     ]
    }
   ],
   "source": [
    "# check img_names are not conflicting\n",
    "# I think this is working... it should get the intersection\n",
    "print(set(veri_data['train']['img_names']) & set(veri_data['val']['img_names']))\n",
    "print(set(veri_data['train']['img_names']) & set(veri_data['test']['img_names']))\n",
    "print(set(veri_data['val']['img_names']) & set(veri_data['test']['img_names']))"
   ]
  },
  {
   "cell_type": "code",
   "execution_count": 34,
   "id": "2cb3c708-6b64-49e0-943a-2a4ef207b1c5",
   "metadata": {},
   "outputs": [],
   "source": [
    "def intersection(lst1, lst2):\n",
    "    lst3 = [value for value in lst1 if value in lst2]\n",
    "    return lst3"
   ]
  },
  {
   "cell_type": "code",
   "execution_count": 37,
   "id": "6d4f2040-b07e-4e8c-b2d3-1cc039bee945",
   "metadata": {},
   "outputs": [
    {
     "name": "stdout",
     "output_type": "stream",
     "text": [
      "[]\n",
      "[]\n",
      "[]\n"
     ]
    }
   ],
   "source": [
    "print(intersection(veri_data['train']['img_names'], veri_data['val']['img_names']))\n",
    "print(intersection(veri_data['train']['img_names'], veri_data['test']['img_names']))\n",
    "print(intersection(veri_data['val']['img_names'], veri_data['test']['img_names']))"
   ]
  },
  {
   "cell_type": "code",
   "execution_count": null,
   "id": "20a6dcb4-deea-4439-b4d2-22674b99d2e7",
   "metadata": {},
   "outputs": [],
   "source": []
  }
 ],
 "metadata": {
  "kernelspec": {
   "display_name": "Python 3 (ipykernel)",
   "language": "python",
   "name": "python3"
  },
  "language_info": {
   "codemirror_mode": {
    "name": "ipython",
    "version": 3
   },
   "file_extension": ".py",
   "mimetype": "text/x-python",
   "name": "python",
   "nbconvert_exporter": "python",
   "pygments_lexer": "ipython3",
   "version": "3.8.9"
  }
 },
 "nbformat": 4,
 "nbformat_minor": 5
}
