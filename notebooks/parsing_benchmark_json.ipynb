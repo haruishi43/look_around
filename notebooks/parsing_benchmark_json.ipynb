{
 "cells": [
  {
   "cell_type": "code",
   "execution_count": 18,
   "id": "bcd50783-cb40-4de0-b2db-c8770ea3c3c6",
   "metadata": {},
   "outputs": [],
   "source": [
    "import os\n",
    "import sys\n",
    "import json\n",
    "\n",
    "from typing import Any, Dict, List"
   ]
  },
  {
   "cell_type": "code",
   "execution_count": 99,
   "id": "4b72d906-0e0e-425c-9856-20cf0357053f",
   "metadata": {},
   "outputs": [],
   "source": [
    "def get_num_perfects_with_efficiency(episodes: List[Dict[str, Any]]):\n",
    "    \n",
    "    num_perfects = 0\n",
    "    num_stopped = 0\n",
    "    running_avg_efficiency = 0\n",
    "    \n",
    "    for i, episode in enumerate(episodes):\n",
    "        called_stop = episode['called_stop']\n",
    "        if called_stop:\n",
    "            num_stopped += 1\n",
    "            \n",
    "            l1_distance = episode['l1_distance']\n",
    "            if l1_distance == 0:\n",
    "                num_perfects += 1\n",
    "\n",
    "                actual = episode['elapsed_steps']\n",
    "                \n",
    "                init = episode['initial_rotation']\n",
    "                target = episode['target_rotation']\n",
    "                init_yaw = init['yaw']\n",
    "                target_yaw = target['yaw']\n",
    "                init_pitch = init['pitch']\n",
    "                target_pitch = target['pitch']\n",
    "                \n",
    "                diff_pitch = abs(init_pitch - target_pitch)\n",
    "                diff_yaw = abs(init_yaw - target_yaw)\n",
    "                if diff_yaw > 180:\n",
    "                    diff_yaw = 360 - diff_yaw\n",
    "                \n",
    "                efficiency = actual / (diff_pitch + diff_yaw + 1)\n",
    "\n",
    "                running_avg_efficiency += efficiency\n",
    "            \n",
    "    running_avg_efficiency /= num_perfects\n",
    "    num_perfects /= num_stopped\n",
    "    \n",
    "    return num_perfects, running_avg_efficiency"
   ]
  },
  {
   "cell_type": "code",
   "execution_count": 113,
   "id": "fb44224d-b445-461e-8b8a-ff7c4cd1f399",
   "metadata": {},
   "outputs": [],
   "source": [
    "path = './benchmarks/fm_orb20.json'"
   ]
  },
  {
   "cell_type": "code",
   "execution_count": 114,
   "id": "9beef05f-b5bf-4dbd-924b-3953c1475d16",
   "metadata": {},
   "outputs": [],
   "source": [
    "with open(path, 'r') as f:\n",
    "    data = json.load(f)"
   ]
  },
  {
   "cell_type": "code",
   "execution_count": 115,
   "id": "02ba7794-251a-4c93-922b-52a11385913b",
   "metadata": {},
   "outputs": [],
   "source": [
    "episodes = data['episodes_metrics']"
   ]
  },
  {
   "cell_type": "code",
   "execution_count": 116,
   "id": "cb355d6b-fdea-4c16-a4c6-9c86743ca5cc",
   "metadata": {},
   "outputs": [
    {
     "data": {
      "text/plain": [
       "(0.5, 1.992857142857143)"
      ]
     },
     "execution_count": 116,
     "metadata": {},
     "output_type": "execute_result"
    }
   ],
   "source": [
    "get_num_perfects_with_efficiency(episodes)"
   ]
  },
  {
   "cell_type": "code",
   "execution_count": 117,
   "id": "f48888ff-91ea-463f-a3a4-6e28cef1c89e",
   "metadata": {},
   "outputs": [],
   "source": [
    "tmp_path = './benchmarks/classic/bounded_{diff}/fm_{method}{id}.json'"
   ]
  },
  {
   "cell_type": "code",
   "execution_count": 118,
   "id": "55ba32b1-1bc5-4cc3-9dda-696408259e99",
   "metadata": {},
   "outputs": [],
   "source": [
    "diffs = ['easy', 'medium', 'hard']\n",
    "methods = ['orb', 'sift']\n",
    "orb_ids = ['20', '30', '40', '60', '80', '100', '-nothresh']\n",
    "sift_ids = ['20_small', '40', '50', '60', '80', '', '-nothresh']"
   ]
  },
  {
   "cell_type": "code",
   "execution_count": 120,
   "id": "3297efa3-9117-43df-baec-a4d03df9c54a",
   "metadata": {},
   "outputs": [
    {
     "name": "stdout",
     "output_type": "stream",
     "text": [
      "easy\n",
      "orb\n",
      "20 (0.4148471615720524, 1.2708784644790672)\n",
      "30 (0.7648766328011611, 1.1505901352477417)\n",
      "40 (0.8662790697674418, 1.121532480413315)\n",
      "60 (0.9082969432314411, 1.1416222205981168)\n",
      "80 (0.9097525473071325, 1.1389839103545598)\n",
      "100 (0.9097525473071325, 1.1389839103545598)\n",
      "-nothresh (0.9097525473071325, 1.1389839103545598)\n",
      "\n",
      "sift\n",
      "20_small (1.0, 4.305150250462882)\n",
      "40 (0.9880774962742176, 1.6910555407228203)\n",
      "50 (0.9897360703812317, 1.1975078605732734)\n",
      "60 (0.9826338639652678, 1.1078810127025702)\n",
      "80 (0.9855699855699855, 1.0540214394976302)\n",
      " (0.9927745664739884, 1.0469636530200508)\n",
      "-nothresh (0.9971098265895953, 1.0005663298358871)\n",
      "\n",
      "medium\n",
      "orb\n",
      "20 (0.3498542274052478, 1.6578300909533017)\n",
      "30 (0.7161764705882353, 1.6453126243090797)\n",
      "40 (0.8452380952380952, 1.5789919576657694)\n",
      "60 (0.8695652173913043, 1.5816967133663489)\n",
      "80 (0.8699551569506726, 1.5800282384437094)\n",
      "100 (0.8699551569506726, 1.5800282384437094)\n",
      "-nothresh (0.8699551569506726, 1.5800282384437094)\n",
      "\n",
      "sift\n",
      "20_small (0.9090909090909091, 2.8221592501120956)\n",
      "40 (0.968421052631579, 1.785531233448299)\n",
      "50 (0.9736070381231672, 1.4825347255861094)\n",
      "60 (0.9475218658892128, 1.3253892597519423)\n",
      "80 (0.9503649635036496, 1.196006076791468)\n",
      " (0.934593023255814, 1.1470671839895799)\n",
      "-nothresh (0.9315866084425036, 1.071481420726228)\n",
      "\n",
      "hard\n",
      "orb\n",
      "20 (0.3514705882352941, 1.325098631492595)\n",
      "30 (0.6790490341753344, 1.3411021490187214)\n",
      "40 (0.764797507788162, 1.3286777056101347)\n",
      "60 (0.796875, 1.3348947788916956)\n",
      "80 (0.8062992125984252, 1.3407418018038273)\n",
      "100 (0.8062992125984252, 1.3407418018038273)\n",
      "-nothresh (0.8062992125984252, 1.3407418018038273)\n",
      "\n",
      "sift\n",
      "20_small (1.0, 1.3598863777831558)\n",
      "40 (0.9757207890743551, 1.3254901999984996)\n",
      "50 (0.9482248520710059, 1.313927537630994)\n",
      "60 (0.9192825112107623, 1.3180982616339287)\n",
      "80 (0.8480243161094225, 1.3222849526809322)\n",
      " (0.7627906976744186, 1.2839130996333628)\n",
      "-nothresh (0.47846153846153844, 1.236449960275382)\n",
      "\n"
     ]
    }
   ],
   "source": [
    "for diff in diffs:\n",
    "    print(diff)\n",
    "    for method in methods:\n",
    "        print(method)\n",
    "        if method == 'orb':\n",
    "            for orb_id in orb_ids:\n",
    "                path = tmp_path.format(\n",
    "                    diff=diff,\n",
    "                    method=method,\n",
    "                    id=orb_id,\n",
    "                )\n",
    "                if os.path.exists(path):\n",
    "                    data = None\n",
    "                    with open(path, 'r') as f:\n",
    "                        data = json.load(f)\n",
    "                    episodes = data['episodes_metrics']\n",
    "                    print(orb_id, get_num_perfects_with_efficiency(episodes))\n",
    "                else:\n",
    "                    print(path, \"doesn't exist!\")\n",
    "        elif method == 'sift':\n",
    "            for sift_id in sift_ids:\n",
    "                path = tmp_path.format(\n",
    "                    diff=diff,\n",
    "                    method=method,\n",
    "                    id=sift_id,\n",
    "                )\n",
    "                if os.path.exists(path):\n",
    "                    data = None\n",
    "                    with open(path, 'r') as f:\n",
    "                        data = json.load(f)\n",
    "                    episodes = data['episodes_metrics']\n",
    "                    print(sift_id, get_num_perfects_with_efficiency(episodes))\n",
    "                else:\n",
    "                    print(path, \"doesn't exist!\")\n",
    "        print()"
   ]
  },
  {
   "cell_type": "code",
   "execution_count": 107,
   "id": "491bc177-9d50-4fff-874a-110d4d461fb8",
   "metadata": {},
   "outputs": [],
   "source": [
    "tmp_path = './benchmarks/rl/bounded_{diff}/ppo_2_inverse_{id}.json'"
   ]
  },
  {
   "cell_type": "code",
   "execution_count": 108,
   "id": "c881cc96-9505-41e0-b8c6-9edc7e7e5d6b",
   "metadata": {},
   "outputs": [],
   "source": [
    "ids = {\n",
    "    'half': '30720000',\n",
    "    'full': 'doublelengths2_59392000',\n",
    "}"
   ]
  },
  {
   "cell_type": "code",
   "execution_count": 109,
   "id": "170511af-42b9-42e2-8918-b25d156a6c9e",
   "metadata": {},
   "outputs": [
    {
     "name": "stdout",
     "output_type": "stream",
     "text": [
      "easy\n",
      "half (0.9393939393939394, 2.0275906518557885)\n",
      "full (0.9755747126436781, 1.865793602542363)\n",
      "medium\n",
      "half (0.9510086455331412, 1.88841928548768)\n",
      "full (0.9826589595375722, 1.5974318131489063)\n",
      "hard\n",
      "half (0.9335260115606936, 1.7671257912520908)\n",
      "full (0.9796806966618288, 1.4297348173502507)\n"
     ]
    }
   ],
   "source": [
    "for diff in diffs:\n",
    "    print(diff)\n",
    "    for k, v in ids.items():\n",
    "        path = tmp_path.format(\n",
    "            diff=diff,\n",
    "            id=v,\n",
    "        )\n",
    "        if os.path.exists(path):\n",
    "            data = None\n",
    "            with open(path, 'r') as f:\n",
    "                data = json.load(f)\n",
    "            episodes = data['episodes_metrics']\n",
    "            print(k, get_num_perfects_with_efficiency(episodes))\n",
    "        else:\n",
    "            print(path, \"doesn't exist!\")"
   ]
  },
  {
   "cell_type": "code",
   "execution_count": null,
   "id": "0171ffce-6777-4096-8e36-b2f93b637cc2",
   "metadata": {},
   "outputs": [],
   "source": []
  },
  {
   "cell_type": "code",
   "execution_count": null,
   "id": "42d06802-08d8-47a0-8364-8255c7562512",
   "metadata": {},
   "outputs": [],
   "source": []
  }
 ],
 "metadata": {
  "kernelspec": {
   "display_name": "Python 3 (ipykernel)",
   "language": "python",
   "name": "python3"
  },
  "language_info": {
   "codemirror_mode": {
    "name": "ipython",
    "version": 3
   },
   "file_extension": ".py",
   "mimetype": "text/x-python",
   "name": "python",
   "nbconvert_exporter": "python",
   "pygments_lexer": "ipython3",
   "version": "3.8.8"
  }
 },
 "nbformat": 4,
 "nbformat_minor": 5
}
