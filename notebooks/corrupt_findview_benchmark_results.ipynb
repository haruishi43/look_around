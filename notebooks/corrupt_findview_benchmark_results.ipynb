{
 "cells": [
  {
   "cell_type": "markdown",
   "id": "1b7e7ab5-b4a9-4454-839e-734ca65b03bd",
   "metadata": {},
   "source": [
    "Benchmark results for Corrupted FindView Task"
   ]
  },
  {
   "cell_type": "code",
   "execution_count": 1,
   "id": "39e3bf94-ad2b-438b-9644-27c928a8f237",
   "metadata": {},
   "outputs": [],
   "source": [
    "import os\n",
    "import sys\n",
    "\n",
    "import csv\n",
    "import json\n",
    "\n",
    "from typing import Any, Dict, List"
   ]
  },
  {
   "cell_type": "code",
   "execution_count": 2,
   "id": "6f4201ee-4173-47c6-9172-e777c9621b88",
   "metadata": {},
   "outputs": [
    {
     "name": "stderr",
     "output_type": "stream",
     "text": [
      "/home/ubuntu/.pyenv/versions/3.8.8/lib/python3.8/site-packages/setuptools/distutils_patch.py:25: UserWarning: Distutils was imported before Setuptools. This usage is discouraged and may exhibit undesirable behaviors or errors. Please use Setuptools' objects directly or at least import Setuptools first.\n",
      "  warnings.warn(\n"
     ]
    }
   ],
   "source": [
    "from LookAround.FindView.corruptions import get_corruption_names"
   ]
  },
  {
   "cell_type": "code",
   "execution_count": 3,
   "id": "0a0d8b09-0058-4c6b-8b7a-5fa463077a74",
   "metadata": {},
   "outputs": [],
   "source": [
    "# by severity\n",
    "tmp_path = './benchmarks/{bench_name}/{corruption}_{severity}/{agent_name}.json'\n",
    "tmp_bench_name = 'corrupted_findview_{dataset}_{version}_{category}'\n",
    "tmp_save_path = './results/{bench_name}_{severity}.csv'"
   ]
  },
  {
   "cell_type": "code",
   "execution_count": 4,
   "id": "2aab9075-4276-4073-857e-99aafe177a9d",
   "metadata": {},
   "outputs": [],
   "source": [
    "def bench_corruptions(bench_name, agent_name, severity=1):\n",
    "    corruptions = get_corruption_names()\n",
    "    \n",
    "    results = [agent_name]\n",
    "    for corruption in corruptions:\n",
    "        json_path = tmp_path.format(\n",
    "            bench_name=bench_name,\n",
    "            corruption=corruption,\n",
    "            severity=severity,\n",
    "            agent_name=agent_name,\n",
    "        )\n",
    "        assert os.path.exists(json_path), json_path\n",
    "        \n",
    "        with open(json_path, 'r') as f:\n",
    "            data = json.load(f)\n",
    "        \n",
    "        summary = data['summary']\n",
    "        l1_distance = summary['l1_distance']\n",
    "        \n",
    "        # add more data?\n",
    "        results.append(l1_distance)\n",
    "    \n",
    "    assert len(results) == len(corruptions) + 1\n",
    "    return results"
   ]
  },
  {
   "cell_type": "code",
   "execution_count": 5,
   "id": "9dcde908-2600-43e1-8ecd-ebb4dced0947",
   "metadata": {},
   "outputs": [],
   "source": [
    "# params\n",
    "\n",
    "# sun360 alpha indoor\n",
    "dataset = 'sun360'\n",
    "version = 'alpha'\n",
    "category = 'indoor'\n",
    "bench_name = tmp_bench_name.format(dataset=dataset, version=version, category=category)\n",
    "\n",
    "agent_names = [\n",
    "    'fm_orb_20',\n",
    "    'fm_sift_50',\n",
    "    'ppo_inverse2_half',\n",
    "    'ppo_inverse2_full',\n",
    "    'ppo_inverse2_finetuned',\n",
    "]"
   ]
  },
  {
   "cell_type": "code",
   "execution_count": 6,
   "id": "1154fba4-b9cc-4361-a6ad-6b6eae8647c0",
   "metadata": {},
   "outputs": [],
   "source": [
    "header = []\n",
    "results = []\n",
    "\n",
    "header = ['agent']\n",
    "header += get_corruption_names()\n",
    "results = [header]\n",
    "for agent in agent_names:\n",
    "    results.append(bench_corruptions(bench_name, agent, severity=1))\n",
    "    \n",
    "with open(tmp_save_path.format(bench_name=bench_name, severity=1), 'w') as f:\n",
    "    output = csv.writer(f, delimiter=',')\n",
    "    output.writerows(results)\n",
    "    \n",
    "# severity = 3\n",
    "header = []\n",
    "results = []\n",
    "\n",
    "header = ['agent']\n",
    "header += get_corruption_names()\n",
    "results = [header]\n",
    "for agent in agent_names:\n",
    "    results.append(bench_corruptions(bench_name, agent, severity=3))\n",
    "    \n",
    "with open(tmp_save_path.format(bench_name=bench_name, severity=3), 'w') as f:\n",
    "    output = csv.writer(f, delimiter=',')\n",
    "    output.writerows(results)"
   ]
  },
  {
   "cell_type": "code",
   "execution_count": 7,
   "id": "a0e78821-0227-468b-8ee5-dda40e718c92",
   "metadata": {},
   "outputs": [],
   "source": [
    "# params\n",
    "\n",
    "# sun360 alpha outdoor\n",
    "dataset = 'sun360'\n",
    "version = 'alpha'\n",
    "category = 'outdoor'\n",
    "bench_name = tmp_bench_name.format(dataset=dataset, version=version, category=category)\n",
    "\n",
    "agent_names = [\n",
    "    'fm_orb_40',\n",
    "    'fm_sift_40',\n",
    "    'ppo_inverse2_full',\n",
    "    'ppo_inverse2_finetuned',\n",
    "]"
   ]
  },
  {
   "cell_type": "code",
   "execution_count": 8,
   "id": "836b6d88-a5d0-4f12-9ad9-3d08dfb188bb",
   "metadata": {},
   "outputs": [],
   "source": [
    "header = []\n",
    "results = []\n",
    "\n",
    "header = ['agent']\n",
    "header += get_corruption_names()\n",
    "results = [header]\n",
    "for agent in agent_names:\n",
    "    results.append(bench_corruptions(bench_name, agent, severity=1))\n",
    "    \n",
    "with open(tmp_save_path.format(bench_name=bench_name, severity=1), 'w') as f:\n",
    "    output = csv.writer(f, delimiter=',')\n",
    "    output.writerows(results)\n",
    "\n",
    "# severity = 3\n",
    "header = []\n",
    "results = []\n",
    "\n",
    "header = ['agent']\n",
    "header += get_corruption_names()\n",
    "results = [header]\n",
    "for agent in agent_names:\n",
    "    results.append(bench_corruptions(bench_name, agent, severity=3))\n",
    "    \n",
    "with open(tmp_save_path.format(bench_name=bench_name, severity=3), 'w') as f:\n",
    "    output = csv.writer(f, delimiter=',')\n",
    "    output.writerows(results)"
   ]
  },
  {
   "cell_type": "code",
   "execution_count": null,
   "id": "bc383e94-ecbd-4714-9ce6-8dc33f612cbc",
   "metadata": {},
   "outputs": [],
   "source": []
  }
 ],
 "metadata": {
  "kernelspec": {
   "display_name": "Python 3 (ipykernel)",
   "language": "python",
   "name": "python3"
  },
  "language_info": {
   "codemirror_mode": {
    "name": "ipython",
    "version": 3
   },
   "file_extension": ".py",
   "mimetype": "text/x-python",
   "name": "python",
   "nbconvert_exporter": "python",
   "pygments_lexer": "ipython3",
   "version": "3.8.8"
  }
 },
 "nbformat": 4,
 "nbformat_minor": 5
}
