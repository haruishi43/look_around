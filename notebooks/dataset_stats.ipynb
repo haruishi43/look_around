{
 "cells": [
  {
   "cell_type": "code",
   "execution_count": 19,
   "id": "34fbee10-3259-45ee-a83e-6c48141c929e",
   "metadata": {},
   "outputs": [],
   "source": [
    "import os\n",
    "import sys\n",
    "\n",
    "import json\n",
    "import pickle"
   ]
  },
  {
   "cell_type": "code",
   "execution_count": 20,
   "id": "948ea3dd-654a-4ddd-956e-c26ef0518998",
   "metadata": {},
   "outputs": [],
   "source": [
    "# parameters\n",
    "ROOT = \"../dataset\"\n",
    "dataset = \"sun360\"\n",
    "category = \"indoor\"\n",
    "version = \"alpha\""
   ]
  },
  {
   "cell_type": "code",
   "execution_count": 16,
   "id": "a907199d-a779-4c68-af15-440760360836",
   "metadata": {},
   "outputs": [],
   "source": [
    "pkls = {\n",
    "    'train': os.path.join(ROOT, dataset, version, category, 'train.data'),\n",
    "    'val': os.path.join(ROOT, dataset, version, category, 'val.data'),\n",
    "    'test': os.path.join(ROOT, dataset, version, category, 'test.data'),\n",
    "}\n",
    "\n",
    "splits = {\n",
    "    'train': os.path.join(ROOT, dataset, version, category, 'train.json'),\n",
    "    'val': os.path.join(ROOT, dataset, version, category, 'val.json'),\n",
    "    'test': os.path.join(ROOT, dataset, version, category, 'test.json'),\n",
    "}"
   ]
  },
  {
   "cell_type": "code",
   "execution_count": 17,
   "id": "3e61936c-578f-49f5-9c1c-90fab91a6a32",
   "metadata": {},
   "outputs": [],
   "source": [
    "with open(pkls['train'], 'rb') as f:\n",
    "    data = pickle.load(f)"
   ]
  },
  {
   "cell_type": "markdown",
   "id": "f53a213b-d36e-41ef-b80e-961d8c377e41",
   "metadata": {},
   "source": [
    "## Short summary about the dataset\n",
    "\n",
    "- "
   ]
  }
 ],
 "metadata": {
  "kernelspec": {
   "display_name": "Python 3 (ipykernel)",
   "language": "python",
   "name": "python3"
  },
  "language_info": {
   "codemirror_mode": {
    "name": "ipython",
    "version": 3
   },
   "file_extension": ".py",
   "mimetype": "text/x-python",
   "name": "python",
   "nbconvert_exporter": "python",
   "pygments_lexer": "ipython3",
   "version": "3.8.8"
  }
 },
 "nbformat": 4,
 "nbformat_minor": 5
}
