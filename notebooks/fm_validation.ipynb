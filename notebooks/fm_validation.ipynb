{
 "cells": [
  {
   "cell_type": "code",
   "execution_count": 19,
   "id": "56528a00-8c8a-40f6-be31-20871f0ff804",
   "metadata": {},
   "outputs": [],
   "source": [
    "import os\n",
    "\n",
    "import csv\n",
    "import json"
   ]
  },
  {
   "cell_type": "code",
   "execution_count": 21,
   "id": "b080d5ef-41fe-4f3a-8109-272dfccb7664",
   "metadata": {},
   "outputs": [],
   "source": [
    "tmp_path = 'fm_validations/{benchmark}/{difficulty}_fm_{descriptor}_{threshold}.json'\n",
    "tmp_benchmark = '{task}_{dataset}_{version}_{scene}'\n",
    "tmp_save_path = './results/fm_validation_{benchmark}.csv'\n",
    "\n",
    "difficulties = ['easy', 'medium', 'hard']\n",
    "descriptors = ['ORB', 'SIFT']\n",
    "thresholds = ['10', '20', '30', '40', '50', '60', '70', '80', '90', '100', 'inf']\n",
    "\n",
    "header = ['diff', 'method']\n",
    "header += thresholds"
   ]
  },
  {
   "cell_type": "markdown",
   "id": "ea2207b8-f6dc-46c5-857a-cdb412b5d9f8",
   "metadata": {},
   "source": [
    "# findview sun360 alpha indoor"
   ]
  },
  {
   "cell_type": "code",
   "execution_count": 11,
   "id": "08066e13-7a18-4575-b587-0d6605b91950",
   "metadata": {},
   "outputs": [],
   "source": [
    "benchmark = tmp_benchmark.format(\n",
    "    task='findview',\n",
    "    dataset='sun360',\n",
    "    version='alpha',\n",
    "    scene='indoor',\n",
    ")"
   ]
  },
  {
   "cell_type": "code",
   "execution_count": 23,
   "id": "4d8aaeb4-e228-4aed-ba39-08535a36ce40",
   "metadata": {},
   "outputs": [],
   "source": [
    "results = [header]\n",
    "for diff in difficulties:\n",
    "    for descriptor in descriptors:\n",
    "        result = [diff, descriptor]\n",
    "        for threshold in thresholds:\n",
    "            json_path = tmp_path.format(\n",
    "                benchmark=benchmark,\n",
    "                difficulty=diff,\n",
    "                descriptor=descriptor,\n",
    "                threshold=threshold,\n",
    "            )\n",
    "            assert os.path.exists(json_path)\n",
    "            with open(json_path, 'r') as f:\n",
    "                data = json.load(f)\n",
    "                \n",
    "            summary = data['summary']\n",
    "            l1_distance = summary['l1_distance']\n",
    "            result.append(l1_distance)\n",
    "            \n",
    "        assert len(result) == len(header)\n",
    "        results.append(result)"
   ]
  },
  {
   "cell_type": "code",
   "execution_count": 24,
   "id": "fcf63b6d-135d-4367-a9ec-add4e1228566",
   "metadata": {},
   "outputs": [],
   "source": [
    "with open(tmp_save_path.format(benchmark=benchmark), 'w') as f:\n",
    "    output = csv.writer(f, delimiter=',')\n",
    "    output.writerows(results)"
   ]
  },
  {
   "cell_type": "markdown",
   "id": "e29fac17-7e81-4e8f-ad64-71b5bbd69bc7",
   "metadata": {},
   "source": [
    "# findview sun360 alpha outdoor"
   ]
  },
  {
   "cell_type": "code",
   "execution_count": 25,
   "id": "f982dd61-72d8-4f47-9442-ae4d88ae1aa2",
   "metadata": {},
   "outputs": [],
   "source": [
    "benchmark = tmp_benchmark.format(\n",
    "    task='findview',\n",
    "    dataset='sun360',\n",
    "    version='alpha',\n",
    "    scene='outdoor',\n",
    ")"
   ]
  },
  {
   "cell_type": "code",
   "execution_count": 26,
   "id": "4af7ac7b-293d-447e-a06e-dec2fc39622b",
   "metadata": {},
   "outputs": [],
   "source": [
    "results = [header]\n",
    "for diff in difficulties:\n",
    "    for descriptor in descriptors:\n",
    "        result = [diff, descriptor]\n",
    "        for threshold in thresholds:\n",
    "            json_path = tmp_path.format(\n",
    "                benchmark=benchmark,\n",
    "                difficulty=diff,\n",
    "                descriptor=descriptor,\n",
    "                threshold=threshold,\n",
    "            )\n",
    "            assert os.path.exists(json_path)\n",
    "            with open(json_path, 'r') as f:\n",
    "                data = json.load(f)\n",
    "                \n",
    "            summary = data['summary']\n",
    "            l1_distance = summary['l1_distance']\n",
    "            result.append(l1_distance)\n",
    "            \n",
    "        assert len(result) == len(header)\n",
    "        results.append(result)"
   ]
  },
  {
   "cell_type": "code",
   "execution_count": 27,
   "id": "5f3b1c62-bbc5-4be0-9f19-7c7e36b5bbcd",
   "metadata": {},
   "outputs": [],
   "source": [
    "with open(tmp_save_path.format(benchmark=benchmark), 'w') as f:\n",
    "    output = csv.writer(f, delimiter=',')\n",
    "    output.writerows(results)"
   ]
  },
  {
   "cell_type": "markdown",
   "id": "ec9b0823-d0f7-46b6-bc05-b84d1fb3594e",
   "metadata": {},
   "source": [
    "# findview wacv360indoor alpha"
   ]
  },
  {
   "cell_type": "code",
   "execution_count": 28,
   "id": "49a55787-462a-4c5f-a388-13ee9058051e",
   "metadata": {},
   "outputs": [],
   "source": [
    "benchmark = 'findview_wacv360indoor_alpha'"
   ]
  },
  {
   "cell_type": "code",
   "execution_count": 29,
   "id": "6df0f393-71b0-4899-8588-9edf33269d6f",
   "metadata": {},
   "outputs": [],
   "source": [
    "results = [header]\n",
    "for diff in difficulties:\n",
    "    for descriptor in descriptors:\n",
    "        result = [diff, descriptor]\n",
    "        for threshold in thresholds:\n",
    "            json_path = tmp_path.format(\n",
    "                benchmark=benchmark,\n",
    "                difficulty=diff,\n",
    "                descriptor=descriptor,\n",
    "                threshold=threshold,\n",
    "            )\n",
    "            assert os.path.exists(json_path)\n",
    "            with open(json_path, 'r') as f:\n",
    "                data = json.load(f)\n",
    "                \n",
    "            summary = data['summary']\n",
    "            l1_distance = summary['l1_distance']\n",
    "            result.append(l1_distance)\n",
    "            \n",
    "        assert len(result) == len(header)\n",
    "        results.append(result)"
   ]
  },
  {
   "cell_type": "code",
   "execution_count": 30,
   "id": "f087d901-7c90-4a69-9dfa-a5a53aa78375",
   "metadata": {},
   "outputs": [],
   "source": [
    "with open(tmp_save_path.format(benchmark=benchmark), 'w') as f:\n",
    "    output = csv.writer(f, delimiter=',')\n",
    "    output.writerows(results)"
   ]
  },
  {
   "cell_type": "code",
   "execution_count": null,
   "id": "5bd1417c-2ace-4352-82a1-8289d30f090e",
   "metadata": {},
   "outputs": [],
   "source": []
  }
 ],
 "metadata": {
  "kernelspec": {
   "display_name": "Python 3 (ipykernel)",
   "language": "python",
   "name": "python3"
  },
  "language_info": {
   "codemirror_mode": {
    "name": "ipython",
    "version": 3
   },
   "file_extension": ".py",
   "mimetype": "text/x-python",
   "name": "python",
   "nbconvert_exporter": "python",
   "pygments_lexer": "ipython3",
   "version": "3.8.8"
  }
 },
 "nbformat": 4,
 "nbformat_minor": 5
}
